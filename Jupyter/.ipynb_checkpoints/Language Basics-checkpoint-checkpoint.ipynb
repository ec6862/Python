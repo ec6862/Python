{
 "cells": [
  {
   "cell_type": "code",
   "execution_count": 1,
   "id": "6314907e",
   "metadata": {},
   "outputs": [
    {
     "name": "stdout",
     "output_type": "stream",
     "text": [
      "hello world\n"
     ]
    }
   ],
   "source": [
    "print('hello world')"
   ]
  },
  {
   "cell_type": "code",
   "execution_count": 2,
   "id": "9edac43e",
   "metadata": {},
   "outputs": [
    {
     "name": "stdout",
     "output_type": "stream",
     "text": [
      "The Zen of Python, by Tim Peters\n",
      "\n",
      "Beautiful is better than ugly.\n",
      "Explicit is better than implicit.\n",
      "Simple is better than complex.\n",
      "Complex is better than complicated.\n",
      "Flat is better than nested.\n",
      "Sparse is better than dense.\n",
      "Readability counts.\n",
      "Special cases aren't special enough to break the rules.\n",
      "Although practicality beats purity.\n",
      "Errors should never pass silently.\n",
      "Unless explicitly silenced.\n",
      "In the face of ambiguity, refuse the temptation to guess.\n",
      "There should be one-- and preferably only one --obvious way to do it.\n",
      "Although that way may not be obvious at first unless you're Dutch.\n",
      "Now is better than never.\n",
      "Although never is often better than *right* now.\n",
      "If the implementation is hard to explain, it's a bad idea.\n",
      "If the implementation is easy to explain, it may be a good idea.\n",
      "Namespaces are one honking great idea -- let's do more of those!\n"
     ]
    }
   ],
   "source": [
    "import this\n"
   ]
  },
  {
   "cell_type": "code",
   "execution_count": 2,
   "id": "bb06f7c0",
   "metadata": {},
   "outputs": [
    {
     "data": {
      "text/plain": [
       "int"
      ]
     },
     "execution_count": 2,
     "metadata": {},
     "output_type": "execute_result"
    }
   ],
   "source": [
    "type(123 + 456)"
   ]
  },
  {
   "cell_type": "code",
   "execution_count": 3,
   "id": "0937d312",
   "metadata": {},
   "outputs": [
    {
     "data": {
      "text/plain": [
       "579.0"
      ]
     },
     "execution_count": 3,
     "metadata": {},
     "output_type": "execute_result"
    }
   ],
   "source": [
    "123. + 456"
   ]
  },
  {
   "cell_type": "code",
   "execution_count": 4,
   "id": "dcdfa1fc",
   "metadata": {},
   "outputs": [
    {
     "data": {
      "text/plain": [
       "float"
      ]
     },
     "execution_count": 4,
     "metadata": {},
     "output_type": "execute_result"
    }
   ],
   "source": [
    "type(123. + 456)"
   ]
  },
  {
   "cell_type": "code",
   "execution_count": 5,
   "id": "ec2a7d23",
   "metadata": {},
   "outputs": [
    {
     "data": {
      "text/plain": [
       "0.3333333333333333"
      ]
     },
     "execution_count": 5,
     "metadata": {},
     "output_type": "execute_result"
    }
   ],
   "source": [
    "1 / 3"
   ]
  },
  {
   "cell_type": "code",
   "execution_count": 6,
   "id": "598cec7d",
   "metadata": {},
   "outputs": [
    {
     "data": {
      "text/plain": [
       "0"
      ]
     },
     "execution_count": 6,
     "metadata": {},
     "output_type": "execute_result"
    }
   ],
   "source": [
    "1 // 3"
   ]
  },
  {
   "cell_type": "code",
   "execution_count": 7,
   "id": "9d38b9e6",
   "metadata": {},
   "outputs": [
    {
     "data": {
      "text/plain": [
       "100"
      ]
     },
     "execution_count": 7,
     "metadata": {},
     "output_type": "execute_result"
    }
   ],
   "source": [
    "10**2"
   ]
  },
  {
   "cell_type": "code",
   "execution_count": 8,
   "id": "12de2282",
   "metadata": {},
   "outputs": [
    {
     "data": {
      "text/plain": [
       "3.1622776601683795"
      ]
     },
     "execution_count": 8,
     "metadata": {},
     "output_type": "execute_result"
    }
   ],
   "source": [
    "10 ** 0.5"
   ]
  },
  {
   "cell_type": "code",
   "execution_count": 9,
   "id": "c0f86c22",
   "metadata": {},
   "outputs": [
    {
     "data": {
      "text/plain": [
       "-29.8"
      ]
     },
     "execution_count": 9,
     "metadata": {},
     "output_type": "execute_result"
    }
   ],
   "source": [
    "-((1 - 3) / 10 + 30)"
   ]
  },
  {
   "cell_type": "code",
   "execution_count": 11,
   "id": "270f5925",
   "metadata": {},
   "outputs": [
    {
     "data": {
      "text/plain": [
       "'This is a string. This is the second sentence.'"
      ]
     },
     "execution_count": 11,
     "metadata": {},
     "output_type": "execute_result"
    }
   ],
   "source": [
    "'This is a string.' + \" This is the second sentence.\""
   ]
  },
  {
   "cell_type": "code",
   "execution_count": 12,
   "id": "3b36d7f7",
   "metadata": {},
   "outputs": [
    {
     "name": "stdout",
     "output_type": "stream",
     "text": [
      "This is a string. This is the second sentence.\n"
     ]
    }
   ],
   "source": [
    "print('This is a string.' + \" This is the second sentence.\")"
   ]
  },
  {
   "cell_type": "code",
   "execution_count": 13,
   "id": "636aea89",
   "metadata": {},
   "outputs": [
    {
     "ename": "SyntaxError",
     "evalue": "unterminated string literal (detected at line 1) (2997660158.py, line 1)",
     "output_type": "error",
     "traceback": [
      "\u001b[1;36m  Cell \u001b[1;32mIn[13], line 1\u001b[1;36m\u001b[0m\n\u001b[1;33m    'Mr. Jones said \"I like this donut.\"\\nHe also said, \"But I would like Mrs. Jones' donuts better.\"'\u001b[0m\n\u001b[1;37m                                                                                                    ^\u001b[0m\n\u001b[1;31mSyntaxError\u001b[0m\u001b[1;31m:\u001b[0m unterminated string literal (detected at line 1)\n"
     ]
    }
   ],
   "source": [
    "'Mr. Jones said \"I like this donut.\"\\nHe also said, \"But I would like Mrs. Jones' donuts better.\"'"
   ]
  },
  {
   "cell_type": "code",
   "execution_count": 14,
   "id": "c016be70",
   "metadata": {},
   "outputs": [
    {
     "data": {
      "text/plain": [
       "'Mr. Jones said \"I like this donut.\"\\nHe also said, \"But I would like Mrs. Jones\\' donuts better.\"'"
      ]
     },
     "execution_count": 14,
     "metadata": {},
     "output_type": "execute_result"
    }
   ],
   "source": [
    "'Mr. Jones said \"I like this donut.\"\\nHe also said, \"But I would like Mrs. Jones\\' donuts better.\"'\n"
   ]
  },
  {
   "cell_type": "code",
   "execution_count": 15,
   "id": "fdc82c86",
   "metadata": {},
   "outputs": [
    {
     "name": "stdout",
     "output_type": "stream",
     "text": [
      "Mr. Jones said \"I like this donut.\"\n",
      "He also said, \"But I would like Mrs. Jones' donuts better.\"\n"
     ]
    }
   ],
   "source": [
    "print('Mr. Jones said \"I like this donut.\"\\nHe also said, \"But I would like Mrs. Jones\\' donuts better.\"'\n",
    ")"
   ]
  },
  {
   "cell_type": "code",
   "execution_count": 16,
   "id": "15bfe4c9",
   "metadata": {},
   "outputs": [],
   "source": [
    "s = 'Mr. Jones said \"I like this donut.\"\\nHe also said, \"But I would like Mrs. Jones\\' donuts better.\"'\n"
   ]
  },
  {
   "cell_type": "code",
   "execution_count": 17,
   "id": "33a2deee",
   "metadata": {},
   "outputs": [
    {
     "data": {
      "text/plain": [
       "'MR. JONES SAID \"I LIKE THIS DONUT.\"\\nHE ALSO SAID, \"BUT I WOULD LIKE MRS. JONES\\' DONUTS BETTER.\"'"
      ]
     },
     "execution_count": 17,
     "metadata": {},
     "output_type": "execute_result"
    }
   ],
   "source": [
    "s.upper()"
   ]
  },
  {
   "cell_type": "code",
   "execution_count": 18,
   "id": "b3a6254e",
   "metadata": {},
   "outputs": [
    {
     "data": {
      "text/plain": [
       "7"
      ]
     },
     "execution_count": 18,
     "metadata": {},
     "output_type": "execute_result"
    }
   ],
   "source": [
    "# this is a comment HEHEHEAHEAHWHAEHAW\n",
    "s.count('e')"
   ]
  },
  {
   "cell_type": "code",
   "execution_count": 19,
   "id": "a585cc6f",
   "metadata": {},
   "outputs": [
    {
     "data": {
      "text/plain": [
       "str"
      ]
     },
     "execution_count": 19,
     "metadata": {},
     "output_type": "execute_result"
    }
   ],
   "source": [
    "type(s)"
   ]
  },
  {
   "cell_type": "code",
   "execution_count": 24,
   "id": "22b4ad3d",
   "metadata": {},
   "outputs": [
    {
     "name": "stdout",
     "output_type": "stream",
     "text": [
      "This is an f-string. x is 4.\n"
     ]
    }
   ],
   "source": [
    "# f = format\n",
    "x = 1\n",
    "f'This is an f-string. x is {x + 3}.'\n",
    "print(f'This is an f-string. x is {x + 3}.')"
   ]
  },
  {
   "cell_type": "code",
   "execution_count": 27,
   "id": "540d73cb",
   "metadata": {},
   "outputs": [],
   "source": [
    "# this is a multi-line comment.\n",
    "# you can keep adding #s to the beginning of each line.\n",
    "# and I am getting tired.\n",
    "'''\n",
    "this is another way to write a multi-line comment.\n",
    "this is easier!\n",
    "turns out this is actually a multi-line string!\n",
    "'''\n",
    "x = 10"
   ]
  },
  {
   "cell_type": "code",
   "execution_count": 37,
   "id": "ba7e0df2",
   "metadata": {},
   "outputs": [
    {
     "name": "stdout",
     "output_type": "stream",
     "text": [
      "hello world\n",
      "Mr. Jones said \"I like this donut.\"\n",
      "He also said, \"But I would like Mrs. Jones' donuts better.\"\n",
      "This is an f-string. x is 4.\n"
     ]
    }
   ],
   "source": [
    "print('hello world')\n",
    "type(123 + 456) , type(123.+ 456)\n",
    "(1 / 3), (1 // 3), (1 % 3), 10 ** 2, 10 ** 0.5\n",
    "'This is a string.' + \" This is the second sentence.\"\n",
    "'Mr. Jones said \"I like this donut.\"\\nHe also said, \"But I would like Mrs. Jones' donuts better.\"'\n",
    "print('Mr. Jones said \"I like this donut.\"\\nHe also said, \"But I would like Mrs. Jones\\' donuts better.\"')\n",
    "s = 'Mr. Jones said \"I like this donut.\"\\nHe also said, \"But I would like Mrs. Jones' donuts better.\"'\n",
    "s.count('e')\n",
    "type(s)\n",
    "# this is a comment\n",
    "'''\n",
    "this is a multi-line string.\n",
    "'''\n",
    "x = 1\n",
    "f'This is an f-string. x is {x + 3}.'\n",
    "print (f'This is an f-string. x is {x + 3}.')"
   ]
  },
  {
   "cell_type": "code",
   "execution_count": null,
   "id": "f4b6a1b0",
   "metadata": {},
   "outputs": [],
   "source": []
  }
 ],
 "metadata": {
  "kernelspec": {
   "display_name": "Python 3 (ipykernel)",
   "language": "python",
   "name": "python3"
  },
  "language_info": {
   "codemirror_mode": {
    "name": "ipython",
    "version": 3
   },
   "file_extension": ".py",
   "mimetype": "text/x-python",
   "name": "python",
   "nbconvert_exporter": "python",
   "pygments_lexer": "ipython3",
   "version": "3.11.4"
  }
 },
 "nbformat": 4,
 "nbformat_minor": 5
}
