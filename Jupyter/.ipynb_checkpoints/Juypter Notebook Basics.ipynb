{
 "cells": [
  {
   "cell_type": "code",
   "execution_count": null,
   "id": "d62e1741",
   "metadata": {},
   "outputs": [],
   "source": [
    "# this is a new cell. (escape + a)"
   ]
  },
  {
   "cell_type": "code",
   "execution_count": 1,
   "id": "79593438",
   "metadata": {},
   "outputs": [],
   "source": [
    "# this is the new cell below. (escape + b)"
   ]
  },
  {
   "cell_type": "code",
   "execution_count": null,
   "id": "9274434e",
   "metadata": {},
   "outputs": [],
   "source": [
    "# (escape + h) for keyboard shortcut"
   ]
  },
  {
   "cell_type": "markdown",
   "id": "449cbda4",
   "metadata": {},
   "source": []
  }
 ],
 "metadata": {
  "kernelspec": {
   "display_name": "Python 3 (ipykernel)",
   "language": "python",
   "name": "python3"
  },
  "language_info": {
   "codemirror_mode": {
    "name": "ipython",
    "version": 3
   },
   "file_extension": ".py",
   "mimetype": "text/x-python",
   "name": "python",
   "nbconvert_exporter": "python",
   "pygments_lexer": "ipython3",
   "version": "3.11.4"
  }
 },
 "nbformat": 4,
 "nbformat_minor": 5
}
